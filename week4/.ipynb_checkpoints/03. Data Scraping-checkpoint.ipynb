{
 "cells": [
  {
   "cell_type": "markdown",
   "metadata": {
    "slideshow": {
     "slide_type": "slide"
    }
   },
   "source": [
    "Big Data And Society: Lab 3\n",
    "=====\n"
   ]
  },
  {
   "cell_type": "markdown",
   "metadata": {},
   "source": [
    "# Data Scraping"
   ]
  },
  {
   "cell_type": "markdown",
   "metadata": {},
   "source": [
    "### 0. Importing the library\n",
    "\n",
    "First we need to import the libraries, and some of their components. We will be using **Twython**, a library that provides wrappers around Twitter's API. To install **Twython** on a terminal or the command line, run the following command:\n",
    "```\n",
    "pip install twython\n",
    "```\n",
    "\n",
    "We also need to create a Python file that will contain the **Twitter** keys. It is never a good idea to host these keys on a public website like **github**, so one way to keep them private is importing the keys as a variable from a separate, untracked file. If you haven’t done so, at this point you should obtain your twitter API keys. Create a python file on the same directory of your **IPython** notebook, and name it: **`twitter_key.py`**.\n",
    "\n",
    "```\n",
    "# In the file you should define two variables:\n",
    "t_key = ‘your twitter key’\n",
    "t_secret = ‘your twitter secret’\n",
    "```\n",
    "\n",
    "Get your Twitter key and secret code on the [Twitter Apps site](https://apps.twitter.com/). You will need to create an application, it doesn't matter what you call it, to get your key and secret code. Once your application is created, you will find your keys on the **Keys and Access Tokens** tab of your application."
   ]
  },
  {
   "cell_type": "code",
   "execution_count": 1,
   "metadata": {
    "collapsed": false
   },
   "outputs": [],
   "source": [
    "import json\n",
    "import time\n",
    "import threading\n",
    "\n",
    "from datetime import datetime\n",
    "from twython import Twython\n",
    "\n",
    "# Imports the keys from the python file\n",
    "from twitter_key import t_key, t_secret"
   ]
  },
  {
   "cell_type": "markdown",
   "metadata": {},
   "source": [
    "### 1. Query the Twitter API\n",
    "Now we are going to construct a **Twython** object; this object simplifies the access to the [Twitter API](https://dev.twitter.com/overview/documentation), and provides methods for accessing the API’s endpoints. The first function fetches tweets with a given query at a given lat-long. We will be using the search parameters to hit the APIs endpoint. We need to provide the lat/lon of the centroid of the area we want to query, maximum number of tweets to return, and area within the centroid to search for, among others. \n",
    "\n",
    "Additional documentation of the Twython API can be found [here]( https://twython.readthedocs.org/en/latest/)\n"
   ]
  },
  {
   "cell_type": "code",
   "execution_count": 9,
   "metadata": {
    "collapsed": false
   },
   "outputs": [],
   "source": [
    "# Assigns the keys to the variables\n",
    "APP_KEY = t_key\n",
    "APP_SECRET = t_secret\n",
    "\n",
    "# Setup a Lat Lon\n",
    "latlong = [24.6333, 46.7167]\n",
    "\n",
    "''' Fetches tweets with a given query at a given lat-long.'''\n",
    "def get_tweets( latlong=None ):\n",
    "    # Creates a Twithon object with the given keys\n",
    "    twitter = Twython( APP_KEY, APP_SECRET )\n",
    "    # Uses the search function to hit the APIs endpoints and look for recent tweets within the area\n",
    "    results = twitter.search( geocode=','.join([ str(x) for x in latlong ]) + ',15km', result_type='recent', count=10000)\n",
    "    # Returns the only the statuses from the resulting JSON\n",
    "    return results['statuses']"
   ]
  },
  {
   "cell_type": "markdown",
   "metadata": {},
   "source": [
    "### 2. Hit the API and Parse the Result\n",
    "We are going to create a function to help us repeatedly hit the API, and parse the result into a readable JSON that contains the things that we are interested in, and still stores the raw tweet as an additional property. The returned object is a Python `dict` that we can easily parse into another dictionary to later store as a JSON. Raw JSONs returned from the API have a specific structure. It can be sometimes hard to read a raw JSON. I find it easy to use some online parses like [this]( http://json.parser.online.fr/) to look at the structure of the JSON, and only access what we care about. \n"
   ]
  },
  {
   "cell_type": "code",
   "execution_count": 12,
   "metadata": {
    "collapsed": true
   },
   "outputs": [],
   "source": [
    "\"\"\" Does pretty much what its long name suggests. \"\"\"\n",
    "def get_lots_of_tweets( latlong ):\n",
    "    # Create a dictionary to parse the JSON\n",
    "    all_tweets = {}\n",
    "    \n",
    "    # We will be hitting the API a number of times within the total time\n",
    "    total_time = 120\n",
    "    # Everytime we hit the API we subtract time from the total\n",
    "    remaining_seconds = total_time\n",
    "    interval = 30 \n",
    "    while remaining_seconds > 0:\n",
    "        added = 0\n",
    "        # We hit the Twitter API\n",
    "        new_tweets = get_tweets( latlong )\n",
    "        # We parse the resulting JSON, and save the rest of the raw content\n",
    "        for tweet in new_tweets:\n",
    "            tid = tweet['id']\n",
    "            if tid not in all_tweets and tweet['coordinates'] != None:\n",
    "                properties = {}\n",
    "                properties['lat'] = tweet['coordinates']['coordinates'][1]\n",
    "                properties['lon'] = tweet['coordinates']['coordinates'][0]\n",
    "                properties['tweet_id'] = tid\n",
    "                properties['content'] = tweet['text']\n",
    "                properties['user'] = tweet['user']['id']\n",
    "                properties['user_location'] = tweet['user']['location']\n",
    "                properties['raw_source'] = tweet\n",
    "                properties['data_point'] = 'none'\n",
    "                properties['time'] = tweet['created_at']\n",
    "                all_tweets[ tid ] = properties\n",
    "                added += 1\n",
    "        print \"At %d seconds, added %d new tweets, for a total of %d\" % ( total_time - remaining_seconds, added, len( all_tweets ) )\n",
    "        # We wait a few seconds and hit the API again\n",
    "        time.sleep(interval)\n",
    "        remaining_seconds -= interval\n",
    "    # We return the final dictionary\n",
    "    return all_tweets"
   ]
  },
  {
   "cell_type": "markdown",
   "metadata": {},
   "source": [
    "### 3. Run the Functions\n",
    "\n",
    "We need to call the functions, and save the JSONs into a location. In this case, I made a folder called `twitter`, where I a m saving all the new JSONS. We can run the code continuously utilizing some loop, or we can use libraries like `threading`. \n"
   ]
  },
  {
   "cell_type": "code",
   "execution_count": 14,
   "metadata": {
    "collapsed": false
   },
   "outputs": [],
   "source": [
    "'''This function executes the rest of the functions over a given period of time'''\n",
    "def run():\n",
    "    # This is the number of times the code will be executed. In this case, just once. \n",
    "    starting = 1\n",
    "    while starting > 0:\n",
    "        # Sometimes the API returns some errors, killing the whole script, so we setup try/except to make sure it keeps running\n",
    "        try:\n",
    "            # We define a centroid in Riyadh\n",
    "            latlong = [24.6333, 46.7167]\n",
    "            t = get_lots_of_tweets( latlong )\n",
    "            # We name every file with the current time\n",
    "            timestr = time.strftime(\"%Y%m%d-%H%M%S\")\n",
    "            # We write a new JSON into the target path\n",
    "            with open( '%stweets.json' %(timestr), 'w' ) as f:\n",
    "                f.write( json.dumps(t))\n",
    "            # we can use a library like threading to execute the run function continuously.\n",
    "            #threading.Timer(10, run).start()\n",
    "            starting -= 1\n",
    "        except:\n",
    "            pass"
   ]
  },
  {
   "cell_type": "markdown",
   "metadata": {},
   "source": [
    "### 4. Parse the JSONs\n",
    "Once we have collected some data, we can parse it, and visualize some of the results. Since some of the data is repeated, we can initialize some lists to check whether or not a tweet already exists, and add it to the list. We can then extract the useful information for our purposes, and store it in another list.\n"
   ]
  },
  {
   "cell_type": "code",
   "execution_count": 19,
   "metadata": {
    "collapsed": false
   },
   "outputs": [
    {
     "data": {
      "text/plain": [
       "array([[ 46.6899543 ,  24.76101187],\n",
       "       [ 46.83261096,  24.67830205],\n",
       "       [ 46.79018   ,  24.7183    ],\n",
       "       [ 46.75623536,  24.76707678],\n",
       "       [ 46.69245645,  24.71531025],\n",
       "       [ 46.70851371,  24.75890572],\n",
       "       [ 46.54211134,  24.58360719],\n",
       "       [ 46.7213601 ,  24.6990848 ],\n",
       "       [ 46.72411   ,  24.74499   ],\n",
       "       [ 46.72115577,  24.6863697 ],\n",
       "       [ 46.65087   ,  24.67518   ],\n",
       "       [ 46.71048783,  24.68694022],\n",
       "       [ 46.7728    ,  24.6408    ],\n",
       "       [ 46.70951236,  24.54345978],\n",
       "       [ 46.7460487 ,  24.6810493 ],\n",
       "       [ 46.63381296,  24.71370393],\n",
       "       [ 46.69252397,  24.69909513],\n",
       "       [ 46.67794468,  24.71253747],\n",
       "       [ 46.69254602,  24.71516912],\n",
       "       [ 46.63377527,  24.71363798],\n",
       "       [ 46.6338812 ,  24.6955324 ],\n",
       "       [ 46.6614109 ,  24.6274053 ],\n",
       "       [ 46.70951236,  24.54345978],\n",
       "       [ 46.64905932,  24.57874438],\n",
       "       [ 46.69710875,  24.74108246],\n",
       "       [ 46.72844977,  24.59058139],\n",
       "       [ 46.77281671,  24.69795788],\n",
       "       [ 46.66992812,  24.69198319],\n",
       "       [ 46.6446214 ,  24.5773845 ],\n",
       "       [ 46.77709375,  24.62450716],\n",
       "       [ 46.6613937 ,  24.6274186 ],\n",
       "       [ 46.78485257,  24.73269504],\n",
       "       [ 46.65852   ,  24.71958   ],\n",
       "       [ 46.62410878,  24.6842405 ],\n",
       "       [ 46.62      ,  24.74614   ],\n",
       "       [ 46.72609937,  24.68097246],\n",
       "       [ 46.69252619,  24.71523929],\n",
       "       [ 46.70951236,  24.54345978],\n",
       "       [ 46.68994835,  24.70186855],\n",
       "       [ 46.73296356,  24.69229698],\n",
       "       [ 46.71539068,  24.69432188],\n",
       "       [ 46.65951   ,  24.74413   ],\n",
       "       [ 46.67992115,  24.74293381],\n",
       "       [ 46.70264377,  24.69621289],\n",
       "       [ 46.69587   ,  24.64389   ],\n",
       "       [ 46.59833768,  24.73493381],\n",
       "       [ 46.70354969,  24.70457407],\n",
       "       [ 46.68487391,  24.64820076],\n",
       "       [ 46.862467  ,  24.668657  ],\n",
       "       [ 46.62285447,  24.74256354],\n",
       "       [ 46.70851371,  24.75890572],\n",
       "       [ 46.6479    ,  24.67841   ],\n",
       "       [ 46.67093719,  24.76538106],\n",
       "       [ 46.69259141,  24.71519609],\n",
       "       [ 46.69245645,  24.71531025],\n",
       "       [ 46.6170127 ,  24.597038  ],\n",
       "       [ 46.76752425,  24.72375261],\n",
       "       [ 46.71739544,  24.7434228 ],\n",
       "       [ 46.66255066,  24.74764916],\n",
       "       [ 46.70328058,  24.564282  ],\n",
       "       [ 46.65242347,  24.72635952],\n",
       "       [ 46.69631217,  24.70154071],\n",
       "       [ 46.67073   ,  24.70933   ],\n",
       "       [ 46.65006186,  24.75345554],\n",
       "       [ 46.69011816,  24.73936014],\n",
       "       [ 46.67842   ,  24.70269   ],\n",
       "       [ 46.70495108,  24.74466315],\n",
       "       [ 46.66332721,  24.75491052],\n",
       "       [ 46.6618727 ,  24.735491  ],\n",
       "       [ 46.68219398,  24.71098763],\n",
       "       [ 46.69254602,  24.71516912],\n",
       "       [ 46.63471667,  24.58606   ],\n",
       "       [ 46.62325   ,  24.67361   ],\n",
       "       [ 46.862554  ,  24.668606  ],\n",
       "       [ 46.74462274,  24.68962986],\n",
       "       [ 46.77111104,  24.69355066],\n",
       "       [ 46.62911077,  24.68321168],\n",
       "       [ 46.70255   ,  24.69698   ],\n",
       "       [ 46.69259141,  24.71519609],\n",
       "       [ 46.71509   ,  24.76778   ],\n",
       "       [ 46.64890563,  24.57880529],\n",
       "       [ 46.65805654,  24.71875583],\n",
       "       [ 46.64908005,  24.57864612],\n",
       "       [ 46.7224    ,  24.688     ],\n",
       "       [ 46.6883997 ,  24.7143679 ],\n",
       "       [ 46.54217046,  24.58350028],\n",
       "       [ 46.69264978,  24.69992115],\n",
       "       [ 46.7711059 ,  24.7409132 ],\n",
       "       [ 46.78586868,  24.7250242 ],\n",
       "       [ 46.67059   ,  24.71216   ],\n",
       "       [ 46.69254602,  24.71516912],\n",
       "       [ 46.7224    ,  24.688     ],\n",
       "       [ 46.6538872 ,  24.5486238 ],\n",
       "       [ 46.68481184,  24.64810769],\n",
       "       [ 46.69374578,  24.7382435 ],\n",
       "       [ 46.83758349,  24.7446699 ],\n",
       "       [ 46.73622972,  24.5409651 ],\n",
       "       [ 46.69663282,  24.69065478],\n",
       "       [ 46.6538875 ,  24.5486235 ],\n",
       "       [ 46.69262303,  24.6998158 ],\n",
       "       [ 46.6965019 ,  24.69085862],\n",
       "       [ 46.809011  ,  24.7051864 ],\n",
       "       [ 46.795173  ,  24.6339606 ],\n",
       "       [ 46.8090088 ,  24.7051901 ],\n",
       "       [ 46.5062141 ,  24.6066073 ],\n",
       "       [ 46.7504033 ,  24.7368892 ],\n",
       "       [ 46.64763661,  24.68925715],\n",
       "       [ 46.724521  ,  24.6301875 ],\n",
       "       [ 46.670314  ,  24.7310968 ],\n",
       "       [ 46.5691736 ,  24.6350851 ],\n",
       "       [ 46.67337153,  24.68102724],\n",
       "       [ 46.5055691 ,  24.608373  ],\n",
       "       [ 46.68799306,  24.53819057],\n",
       "       [ 46.76544   ,  24.76346   ],\n",
       "       [ 46.7147735 ,  24.6931664 ],\n",
       "       [ 46.74004   ,  24.76059   ],\n",
       "       [ 46.8089999 ,  24.705204  ],\n",
       "       [ 46.5062141 ,  24.6066073 ],\n",
       "       [ 46.7728    ,  24.6408    ],\n",
       "       [ 46.63717337,  24.57512609],\n",
       "       [ 46.76568   ,  24.73505   ]])"
      ]
     },
     "execution_count": 19,
     "metadata": {},
     "output_type": "execute_result"
    }
   ],
   "source": [
    "# Import additional libraries\n",
    "from os import listdir\n",
    "from os.path import isfile, join\n",
    "import numpy as np\n",
    "import matplotlib.pyplot as plt\n",
    "%matplotlib inline\n",
    "\n",
    "# Get the file names from a given directory\n",
    "file_dir = '/Users/branjon/Documents/github/Fork/16_11.S947/week4/twitter' # Set this to where your JSON saved\n",
    "onlyfiles = [ f for f in listdir(file_dir) if isfile(join(file_dir,f)) and not f.startswith('.')]\n",
    "\n",
    "# Initialize some lists to store the points, and the ids of the tweets\n",
    "ids = []\n",
    "all_pts = []\n",
    "# Loop through all the files\n",
    "for file in onlyfiles:\n",
    "    full_dir = join(file_dir,file)\n",
    "    # Open the JSON\n",
    "    with open(full_dir) as f:\n",
    "        data = f.read()\n",
    "        # Load the JSON as a dict\n",
    "        dict = json.loads(data)\n",
    "        # Only add the unique tweets to the list\n",
    "        if not isinstance(dict, list):\n",
    "            for key, val in dict.iteritems():\n",
    "                if key not in ids:\n",
    "                    ids.append(key)\n",
    "                    lat = val['lat']\n",
    "                    lon = val['lon']\n",
    "                    all_pts.append([lat,lon])\n",
    "pts = np.array(all_pts)\n",
    "pts"
   ]
  },
  {
   "cell_type": "markdown",
   "metadata": {},
   "source": [
    "### 5. Plot some Tweets\n",
    "We can use **matplotlib** to visualize some tweets."
   ]
  },
  {
   "cell_type": "code",
   "execution_count": 20,
   "metadata": {
    "collapsed": false
   },
   "outputs": [
    {
     "data": {
      "text/plain": [
       "<matplotlib.collections.PathCollection at 0x10fe28690>"
      ]
     },
     "execution_count": 20,
     "metadata": {},
     "output_type": "execute_result"
    },
    {
     "data": {
      "image/png": "[encoded data removed]",
      "text/plain": [
       "<matplotlib.figure.Figure at 0x1066f0f50>"
      ]
     },
     "metadata": {},
     "output_type": "display_data"
    }
   ],
   "source": [
    "# Use a scatter plot to make a quick visualization of the data points\n",
    "plt.scatter(pts[:,0], pts[:,1])"
   ]
  },
  {
   "cell_type": "markdown",
   "metadata": {},
   "source": [
    "Lets make sure that we don't get tweets plotted more than once. How would you make sure to only plot unique tweets? We can maybe:\n",
    "\n",
    "* Construct a list with unique id's\n",
    "* Only add the tweets to the `numpy.array` if the tweet doesn't exist in the list."
   ]
  },
  {
   "cell_type": "markdown",
   "metadata": {
    "collapsed": true
   },
   "source": [
    "### Problem Set - Extend What you Learned\n",
    "\n",
    "Now that you know how to scrape data let's extend the exercise a little so you can show us what you know. This time you will set up the scraper to get data around MIT and scrap data for 15 minutes and visualize. Think about what you would need to change to do that. \n",
    "\n",
    "Once you have the new json file of Boston tweets you should make a new array so that you can make a new scatter plot of your Boston tweets. When you make this new array you should get at least two different attributes returned by the Twitter api. One of them should be the tweet id. Make sure you remove and duplicate tweets (if any). Plot the tweets with different colors (use lat/long to determine the colors) using the scatter plot tool. Then save the data to a CSV.\n",
    "\n",
    "Make sure you get your own Twitter Key.\n",
    "\n",
    "#### Deliverables\n",
    "\n",
    "**1** - Collect Tweets from Boston for 15 min. Note how you set the time in the above example, it was in seconds. How would you do that here? \n",
    "\n",
    "**2** - Plot your tweets using matplotlib.\n",
    "\n",
    "**3** - Change colors based on lat/long position.\n",
    "\n",
    "**4** - Save your array CSV file. We will be checking this CSV file for duplicates. So clean your file.  \n",
    "\n",
    "### What to Give Us on Stellar \n",
    "\n",
    "1 - Iphython notebook of your scrapper, which includes your scattterplot.\n",
    "\n",
    "2 - Your final CSV file. \n",
    "\n",
    "### Bonus # 1\n",
    "\n",
    "Bonus  -- Do the orginally planned assignment now titled Bonus. If you do the whole thing you get a free homework assignment. If  you do parts of it you will get points to future assignments. \n"
   ]
  },
  {
   "cell_type": "code",
   "execution_count": 2,
   "metadata": {
    "collapsed": true
   },
   "outputs": [],
   "source": [
    "import json\n",
    "import time\n",
    "import threading\n",
    "\n",
    "from datetime import datetime\n",
    "from twython import Twython\n",
    "\n",
    "from twitter_key import t_key, t_secret"
   ]
  },
  {
   "cell_type": "code",
   "execution_count": 2,
   "metadata": {
    "collapsed": true
   },
   "outputs": [],
   "source": [
    "APP_KEY = t_key\n",
    "APP_SECRET = t_secret\n",
    "\n",
    "latlong = [42.2110, -71.0234]\n",
    "\n",
    "def get_tweets( latlong=None ):\n",
    "    twitter = Twython( APP_KEY, APP_SECRET )\n",
    "    results = twitter.search( geocode=','.join([ str(x) for x in latlong ]) + ',15km', result_type='recent', count=10000)\n",
    "    return results['statuses']"
   ]
  },
  {
   "cell_type": "code",
   "execution_count": 3,
   "metadata": {
    "collapsed": true
   },
   "outputs": [],
   "source": [
    "def get_lots_of_tweets( latlong ):\n",
    "    all_tweets = {}\n",
    "    \n",
    "    total_time = 900\n",
    "    remaining_seconds = total_time\n",
    "    interval = 60 \n",
    "    while remaining_seconds > 0:\n",
    "        added = 0\n",
    "        new_tweets = get_tweets( latlong )\n",
    "        for tweet in new_tweets:\n",
    "            tid = tweet['id']\n",
    "            if tid not in all_tweets and tweet['coordinates'] != None:\n",
    "                properties = {}\n",
    "                properties['lat'] = tweet['coordinates']['coordinates'][1]\n",
    "                properties['lon'] = tweet['coordinates']['coordinates'][0]\n",
    "                properties['tweet_id'] = tid\n",
    "                properties['content'] = tweet['text']\n",
    "                properties['user'] = tweet['user']['id']\n",
    "                properties['user_location'] = tweet['user']['location']\n",
    "                properties['raw_source'] = tweet\n",
    "                properties['data_point'] = 'none'\n",
    "                properties['time'] = tweet['created_at']\n",
    "                all_tweets[ tid ] = properties\n",
    "                added += 1\n",
    "        print \"At %d seconds, added %d new tweets, for a total of %d\" % ( total_time - remaining_seconds, added, len( all_tweets ) )\n",
    "        time.sleep(interval)\n",
    "        remaining_seconds -= interval\n",
    "    return all_tweets"
   ]
  },
  {
   "cell_type": "code",
   "execution_count": 4,
   "metadata": {
    "collapsed": false
   },
   "outputs": [
    {
     "name": "stdout",
     "output_type": "stream",
     "text": [
      "At 0 seconds, added 93 new tweets, for a total of 93\n",
      "At 60 seconds, added 0 new tweets, for a total of 93\n",
      "At 120 seconds, added 0 new tweets, for a total of 93\n",
      "At 180 seconds, added 0 new tweets, for a total of 93\n",
      "At 240 seconds, added 0 new tweets, for a total of 93\n",
      "At 300 seconds, added 2 new tweets, for a total of 95\n",
      "At 360 seconds, added 0 new tweets, for a total of 95\n",
      "At 420 seconds, added 0 new tweets, for a total of 95\n",
      "At 480 seconds, added 0 new tweets, for a total of 95\n",
      "At 540 seconds, added 0 new tweets, for a total of 95\n",
      "At 600 seconds, added 1 new tweets, for a total of 96\n",
      "At 660 seconds, added 1 new tweets, for a total of 97\n",
      "At 720 seconds, added 0 new tweets, for a total of 97\n",
      "At 780 seconds, added 2 new tweets, for a total of 99\n",
      "At 840 seconds, added 0 new tweets, for a total of 99\n"
     ]
    }
   ],
   "source": [
    "def run():\n",
    "    starting = 1\n",
    "    while starting > 0:\n",
    "        try:\n",
    "            latlong = [42.2110, -71.0234]\n",
    "            t = get_lots_of_tweets( latlong )\n",
    "            timestr = time.strftime(\"%Y%m%d-%H%M%S\")\n",
    "            with open( '%stweets.json' %(timestr), 'w' ) as f:\n",
    "                f.write( json.dumps(t))\n",
    "            starting -= 1\n",
    "        except:\n",
    "            pass\n",
    "run()"
   ]
  },
  {
   "cell_type": "code",
   "execution_count": 13,
   "metadata": {
    "collapsed": false
   },
   "outputs": [
    {
     "data": {
      "text/plain": [
       "array([[ 42.0834335 , -71.0183787 ],\n",
       "       [ 42.08534   , -71.02097   ],\n",
       "       [ 42.2523276 , -70.9895353 ],\n",
       "       [ 42.2223282 , -70.9994672 ],\n",
       "       [ 42.2542947 , -71.1662709 ],\n",
       "       [ 42.20320325, -71.15470845],\n",
       "       [ 42.2524362 , -70.9894632 ],\n",
       "       [ 42.2522858 , -70.9895264 ],\n",
       "       [ 42.2183811 , -71.0328824 ],\n",
       "       [ 42.1048228 , -70.9453218 ],\n",
       "       [ 42.2528772 , -71.0022705 ],\n",
       "       [ 42.2490083 , -70.9875112 ],\n",
       "       [ 42.12024983, -70.98712   ],\n",
       "       [ 42.2417653 , -71.166164  ],\n",
       "       [ 42.338943  , -71.072617  ],\n",
       "       [ 42.2522624 , -70.9895342 ],\n",
       "       [ 42.2495435 , -71.0661612 ],\n",
       "       [ 42.08173248, -70.99151805],\n",
       "       [ 42.21881178, -71.03942646],\n",
       "       [ 42.31569188, -71.03531276],\n",
       "       [ 42.2522858 , -70.9895264 ],\n",
       "       [ 42.2417653 , -71.166164  ],\n",
       "       [ 42.33197717, -71.09307686],\n",
       "       [ 42.33648472, -71.0256246 ],\n",
       "       [ 42.28513866, -71.09209581],\n",
       "       [ 42.21483707, -71.07448232],\n",
       "       [ 42.27781667, -70.95348333],\n",
       "       [ 42.158333  , -71.145278  ],\n",
       "       [ 42.1306563 , -70.9161551 ],\n",
       "       [ 42.2607    , -71.0077    ],\n",
       "       [ 42.158333  , -71.145278  ],\n",
       "       [ 42.3016305 , -71.067605  ],\n",
       "       [ 42.08333333, -71.01888889],\n",
       "       [ 42.3073    , -71.065     ],\n",
       "       [ 42.0834335 , -71.0183787 ],\n",
       "       [ 42.08317   , -71.01724   ],\n",
       "       [ 42.3016305 , -71.067605  ],\n",
       "       [ 42.3157363 , -71.0527482 ],\n",
       "       [ 42.252139  , -70.9895228 ],\n",
       "       [ 42.3157363 , -71.0527482 ],\n",
       "       [ 42.2523276 , -70.9895353 ],\n",
       "       [ 42.0835153 , -70.9903438 ],\n",
       "       [ 42.0834335 , -71.0183787 ],\n",
       "       [ 42.194543  , -71.1994976 ],\n",
       "       [ 42.2079017 , -71.0040013 ],\n",
       "       [ 42.08333333, -71.01888889],\n",
       "       [ 42.2436085 , -71.1676536 ],\n",
       "       [ 42.19269772, -70.9170737 ],\n",
       "       [ 42.31472042, -71.07698036],\n",
       "       [ 42.1917    , -71.2019    ],\n",
       "       [ 42.2524362 , -70.9894632 ],\n",
       "       [ 42.2417653 , -71.166164  ],\n",
       "       [ 42.28811072, -71.04565452],\n",
       "       [ 42.24797101, -71.00119501],\n",
       "       [ 42.2168599 , -71.11943   ],\n",
       "       [ 42.2495435 , -71.0661612 ],\n",
       "       [ 42.33873845, -71.01340908],\n",
       "       [ 42.3377967 , -71.0705763 ],\n",
       "       [ 42.194543  , -71.1994976 ],\n",
       "       [ 42.280221  , -71.124575  ],\n",
       "       [ 42.3149    , -71.1142    ],\n",
       "       [ 42.17899407, -70.91245875],\n",
       "       [ 42.33855174, -71.01329609],\n",
       "       [ 42.2767001 , -71.0295505 ],\n",
       "       [ 42.2528772 , -71.0022705 ],\n",
       "       [ 42.2528772 , -71.0022705 ],\n",
       "       [ 42.1306563 , -70.9161551 ],\n",
       "       [ 42.0834335 , -71.0183787 ],\n",
       "       [ 42.194543  , -71.1994976 ],\n",
       "       [ 42.2792    , -71.15      ],\n",
       "       [ 42.158333  , -71.145278  ],\n",
       "       [ 42.20905556, -71.10230556],\n",
       "       [ 42.2519697 , -70.9896557 ],\n",
       "       [ 42.194543  , -71.1994976 ],\n",
       "       [ 42.2418172 , -70.889759  ],\n",
       "       [ 42.16136067, -71.04336086],\n",
       "       [ 42.2454703 , -70.9356944 ],\n",
       "       [ 42.158333  , -71.145278  ],\n",
       "       [ 42.2189838 , -71.0235217 ],\n",
       "       [ 42.2444611 , -70.8846207 ],\n",
       "       [ 42.3016305 , -71.067605  ],\n",
       "       [ 42.0834335 , -71.0183787 ],\n",
       "       [ 42.1305556 , -71.0416667 ],\n",
       "       [ 42.17173107, -70.95382374],\n",
       "       [ 42.2529858 , -70.9946623 ],\n",
       "       [ 42.2523276 , -70.9895353 ],\n",
       "       [ 42.2523025 , -70.9895324 ],\n",
       "       [ 42.31578696, -71.11745388],\n",
       "       [ 42.09041862, -71.04811513],\n",
       "       [ 42.2521393 , -70.9895223 ],\n",
       "       [ 42.17878978, -70.9078753 ],\n",
       "       [ 42.3016305 , -71.067605  ],\n",
       "       [ 42.28513866, -71.09209581],\n",
       "       [ 42.33723   , -71.08362   ],\n",
       "       [ 42.2418172 , -70.889759  ],\n",
       "       [ 42.194543  , -71.1994976 ],\n",
       "       [ 42.21997   , -71.022767  ],\n",
       "       [ 42.28513866, -71.09209581],\n",
       "       [ 42.1048228 , -70.9453218 ]])"
      ]
     },
     "execution_count": 13,
     "metadata": {},
     "output_type": "execute_result"
    }
   ],
   "source": [
    "from os import listdir\n",
    "from os.path import isfile, join\n",
    "import numpy as np\n",
    "import matplotlib.pyplot as plt\n",
    "%matplotlib inline\n",
    "\n",
    "file_dir = '/Users/branjon/Documents/github/Fork/16_11.S947/week4/twitterps4'\n",
    "onlyfiles = [ f for f in listdir(file_dir) if isfile(join(file_dir,f)) and not f.startswith('.')]\n",
    "\n",
    "ids = []\n",
    "all_pts = []\n",
    "for file in onlyfiles:\n",
    "    full_dir = join(file_dir,file)\n",
    "    with open(full_dir) as f:\n",
    "        data = f.read()\n",
    "        dict = json.loads(data)\n",
    "        if not isinstance(dict, list):\n",
    "            for key, val in dict.iteritems():\n",
    "                if key not in ids:\n",
    "                    ids.append(key)\n",
    "                    lat = val['lat']\n",
    "                    lon = val['lon']\n",
    "                    all_pts.append([lat,lon])\n",
    "pts = np.array(all_pts)\n",
    "pts"
   ]
  },
  {
   "cell_type": "code",
   "execution_count": 25,
   "metadata": {
    "collapsed": false
   },
   "outputs": [
    {
     "data": {
      "text/plain": [
       "<matplotlib.collections.PathCollection at 0x1127eb190>"
      ]
     },
     "execution_count": 25,
     "metadata": {},
     "output_type": "execute_result"
    },
    {
     "data": {
      "image/png": "[encoded data removed]",
      "text/plain": [
       "<matplotlib.figure.Figure at 0x112d0c110>"
      ]
     },
     "metadata": {},
     "output_type": "display_data"
    }
   ],
   "source": [
    "x = pts[:,0]\n",
    "y = pts[:,1]\n",
    "plt.scatter(pts[:,0], pts[:,1], c=x/y, s=50)"
   ]
  },
  {
   "cell_type": "code",
   "execution_count": 11,
   "metadata": {
    "collapsed": false
   },
   "outputs": [],
   "source": [
    "from os import listdir\n",
    "from os.path import isfile, join\n",
    "import numpy as np\n",
    "import matplotlib.pyplot as plt\n",
    "%matplotlib inline\n",
    "\n",
    "file_dir = '/Users/branjon/Documents/github/Fork/16_11.S947/week4/twitterps4'\n",
    "onlyfiles = [ f for f in listdir(file_dir) if isfile(join(file_dir,f)) and not f.startswith('.')]\n",
    "\n",
    "ids = []\n",
    "all_pts = []\n",
    "for file in onlyfiles:\n",
    "    full_dir = join(file_dir,file)\n",
    "    with open(full_dir) as f:\n",
    "        data = f.read()\n",
    "        dict = json.loads(data)\n",
    "        if not isinstance(dict, list):\n",
    "            for key, val in dict.iteritems():\n",
    "                if key not in ids:\n",
    "                    ids.append(key)\n",
    "                    lat = val['lat']\n",
    "                    lon = val['lon']\n",
    "                    tweet_id = val['tweet_id']\n",
    "                    all_pts.append([lat,lon, tweet_id])\n",
    "pts2 = np.array(all_pts)\n",
    "pts2\n",
    "np.savetxt(\"ps4.csv\", pts2, delimiter=\",\")"
   ]
  }
 ],
 "metadata": {
  "kernelspec": {
   "display_name": "Python 2",
   "language": "python",
   "name": "python2"
  },
  "language_info": {
   "codemirror_mode": {
    "name": "ipython",
    "version": 2
   },
   "file_extension": ".py",
   "mimetype": "text/x-python",
   "name": "python",
   "nbconvert_exporter": "python",
   "pygments_lexer": "ipython2",
   "version": "2.7.11"
  }
 },
 "nbformat": 4,
 "nbformat_minor": 0
}
